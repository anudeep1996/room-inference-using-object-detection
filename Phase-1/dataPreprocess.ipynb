{
 "cells": [
  {
   "cell_type": "code",
   "execution_count": 32,
   "metadata": {},
   "outputs": [],
   "source": [
    "from pycocotools.coco import COCO\n",
    "import json\n",
    "import pandas as pd\n",
    "from PIL import Image\n",
    "import shutil"
   ]
  },
  {
   "cell_type": "code",
   "execution_count": 4,
   "metadata": {},
   "outputs": [],
   "source": [
    "dataDir='dataset/coco'\n",
    "dataType='train2017'\n",
    "annotationFile='dataset/coco/annotations/instances_train2017.json'"
   ]
  },
  {
   "cell_type": "code",
   "execution_count": 7,
   "metadata": {},
   "outputs": [
    {
     "output_type": "stream",
     "name": "stdout",
     "text": [
      "loading annotations into memory...\n",
      "Done (t=17.71s)\n",
      "creating index...\n",
      "index created!\n"
     ]
    }
   ],
   "source": [
    "#loading coco train data annotations\n",
    "coco = COCO(annotationFile)"
   ]
  },
  {
   "cell_type": "code",
   "execution_count": 8,
   "metadata": {},
   "outputs": [],
   "source": [
    "classIDs = coco.getCatIds()# coco class ID\n",
    "classes = coco.loadCats(classIDs) # list of dicts containting class info"
   ]
  },
  {
   "cell_type": "code",
   "execution_count": 11,
   "metadata": {},
   "outputs": [
    {
     "output_type": "execute_result",
     "data": {
      "text/plain": [
       "80"
      ]
     },
     "metadata": {},
     "execution_count": 11
    }
   ],
   "source": [
    "len(set(classIDs))"
   ]
  },
  {
   "cell_type": "code",
   "execution_count": 14,
   "metadata": {
    "tags": []
   },
   "outputs": [
    {
     "output_type": "stream",
     "name": "stdout",
     "text": [
      "Number of images containing all the  classes: 39318\n"
     ]
    }
   ],
   "source": [
    "# Reading the required classes (out of the 80).\n",
    "with open('classes.txt') as f:\n",
    "    content = f.readlines()\n",
    "listOfClassesToFilterFromCOCO = [x.strip() for x in content]\n",
    "\n",
    "# Fetch corresponding class IDs\n",
    "imageIds = []\n",
    "classIds = []\n",
    "for className in listOfClassesToFilterFromCOCO: \n",
    "    classId = coco.getCatIds(catNms=className)\n",
    "    classIds.append(classId[0])\n",
    "    # Get all images containing the above class IDs\n",
    "    imageIds.append(coco.getImgIds(catIds=classId))\n",
    "\n",
    "#Flattening list\n",
    "imageIds = [item for sublist in imageIds for item in sublist]\n",
    "print(\"Number of images containing all the  classes:\", len(imageIds))"
   ]
  },
  {
   "cell_type": "code",
   "execution_count": 15,
   "metadata": {},
   "outputs": [],
   "source": [
    "#Getting unique imageIds\n",
    "uniqueImageids = set(imageIds)"
   ]
  },
  {
   "cell_type": "code",
   "execution_count": 17,
   "metadata": {},
   "outputs": [],
   "source": [
    "#Opening json file\n",
    "with open(annotationFile) as f:\n",
    "    instanceData = json.load(f)"
   ]
  },
  {
   "cell_type": "code",
   "execution_count": 21,
   "metadata": {},
   "outputs": [],
   "source": [
    "#\"bbox\" format: [x,y,width,height]\n",
    "#Filtering the data to get parameters only for required imageIds\n",
    "imageID = []\n",
    "categoryID = []\n",
    "bbox= []\n",
    "annotationsDict = instanceData['annotations']\n",
    "#for uniqueImageid in uniqueImageids:\n",
    "    #if any(d['image_id'] == 'uniqueImageid' for d in annotationsDict):\n",
    "for i in range(len(annotationsDict)): \n",
    "    if instanceData['annotations'][i]['image_id'] in uniqueImageids and instanceData['annotations'][i]['category_id'] in classIds:\n",
    "        imageID.append(instanceData['annotations'][i]['image_id'])\n",
    "        categoryID.append(instanceData['annotations'][i]['category_id'])\n",
    "        bbox.append(instanceData['annotations'][i]['bbox'])"
   ]
  },
  {
   "cell_type": "code",
   "execution_count": 24,
   "metadata": {},
   "outputs": [],
   "source": [
    "#converting categoryID index from 0-80 to 0-8(classes.txt)\n",
    "className = []\n",
    "categoryID\n",
    "for ID in categoryID:\n",
    "    className.append(classes[next((index for (index, d) in enumerate(classes) if d[\"id\"] == ID), None)]['name'])\n",
    "\n",
    "classIndex = []\n",
    "for i in range(len(className)):\n",
    "    classIndex.append(listOfClassesToFilterFromCOCO.index(className[i]))"
   ]
  },
  {
   "cell_type": "code",
   "execution_count": 25,
   "metadata": {},
   "outputs": [],
   "source": [
    "trainData = pd.DataFrame({'imageID': imageID, 'classIndex' : classIndex, 'bbox': bbox})"
   ]
  },
  {
   "cell_type": "code",
   "execution_count": 26,
   "metadata": {},
   "outputs": [],
   "source": [
    "trainData['imageID'] = trainData['imageID'].astype('str')\n",
    "trainData['imageID'] = trainData['imageID'].apply(lambda x: x.zfill(12))"
   ]
  },
  {
   "cell_type": "code",
   "execution_count": 28,
   "metadata": {},
   "outputs": [],
   "source": [
    "#function to convert coco format (x, y, w, h) bbox  to yolo format scaled(x_center, y_center, w, h)\n",
    "def convertBBOXToYolo(size, box):\n",
    "    dw = 1./size[0]\n",
    "    dh = 1./size[1]\n",
    "    x = (box[0] + box[1])/2.0\n",
    "    y = (box[2] + box[3])/2.0\n",
    "    w = box[1] - box[0]\n",
    "    h = box[3] - box[2]\n",
    "    x = x*dw\n",
    "    w = w*dw\n",
    "    y = y*dh\n",
    "    h = h*dh\n",
    "    return (x,y,w,h)"
   ]
  },
  {
   "cell_type": "code",
   "execution_count": 29,
   "metadata": {},
   "outputs": [],
   "source": [
    "bboxInYOLO = []\n",
    "for i, imageID in enumerate(list(trainData['imageID'])):\n",
    "     img = Image.open(os.path.join(dataDir, dataType, imageID + '.jpg'))\n",
    "     w = int(img.size[0])\n",
    "     h = int(img.size[1])\n",
    "     bboxInYOLO.append(convertBBOXToYolo((w,h),(bbox[i][0], bbox[i][0] + bbox[i][2], bbox[i][1], bbox[i][1] + bbox[i][3])))"
   ]
  },
  {
   "cell_type": "code",
   "execution_count": 30,
   "metadata": {},
   "outputs": [],
   "source": [
    "trainData['bboxInYOLO'] = bboxInYOLO"
   ]
  },
  {
   "cell_type": "code",
   "execution_count": 31,
   "metadata": {},
   "outputs": [
    {
     "output_type": "execute_result",
     "data": {
      "text/plain": [
       "        imageID  classIndex                            bbox  \\\n",
       "0  000000275781           5  [308.43, 35.25, 126.4, 108.71]   \n",
       "1  000000403107           5  [319.77, 9.19, 319.77, 286.26]   \n",
       "2  000000203085           5  [394.5, 42.74, 143.19, 143.19]   \n",
       "3  000000520862           5   [48.9, 27.33, 165.39, 149.57]   \n",
       "4  000000225913           5   [516.13, 236.31, 63.95, 67.7]   \n",
       "\n",
       "                                          bboxInYOLO  \n",
       "0  (0.74326, 0.23894666666666664, 0.2528000000000...  \n",
       "1  (0.7494609375, 0.3567213114754098, 0.499640625...  \n",
       "2  (0.7768250000000001, 0.27093601895734604, 0.23...  \n",
       "3  (0.27415625, 0.1595546875, 0.3445625, 0.233703...  \n",
       "4  (0.8564140625000001, 0.5628333333333333, 0.099...  "
      ],
      "text/html": "<div>\n<style scoped>\n    .dataframe tbody tr th:only-of-type {\n        vertical-align: middle;\n    }\n\n    .dataframe tbody tr th {\n        vertical-align: top;\n    }\n\n    .dataframe thead th {\n        text-align: right;\n    }\n</style>\n<table border=\"1\" class=\"dataframe\">\n  <thead>\n    <tr style=\"text-align: right;\">\n      <th></th>\n      <th>imageID</th>\n      <th>classIndex</th>\n      <th>bbox</th>\n      <th>bboxInYOLO</th>\n    </tr>\n  </thead>\n  <tbody>\n    <tr>\n      <th>0</th>\n      <td>000000275781</td>\n      <td>5</td>\n      <td>[308.43, 35.25, 126.4, 108.71]</td>\n      <td>(0.74326, 0.23894666666666664, 0.2528000000000...</td>\n    </tr>\n    <tr>\n      <th>1</th>\n      <td>000000403107</td>\n      <td>5</td>\n      <td>[319.77, 9.19, 319.77, 286.26]</td>\n      <td>(0.7494609375, 0.3567213114754098, 0.499640625...</td>\n    </tr>\n    <tr>\n      <th>2</th>\n      <td>000000203085</td>\n      <td>5</td>\n      <td>[394.5, 42.74, 143.19, 143.19]</td>\n      <td>(0.7768250000000001, 0.27093601895734604, 0.23...</td>\n    </tr>\n    <tr>\n      <th>3</th>\n      <td>000000520862</td>\n      <td>5</td>\n      <td>[48.9, 27.33, 165.39, 149.57]</td>\n      <td>(0.27415625, 0.1595546875, 0.3445625, 0.233703...</td>\n    </tr>\n    <tr>\n      <th>4</th>\n      <td>000000225913</td>\n      <td>5</td>\n      <td>[516.13, 236.31, 63.95, 67.7]</td>\n      <td>(0.8564140625000001, 0.5628333333333333, 0.099...</td>\n    </tr>\n  </tbody>\n</table>\n</div>"
     },
     "metadata": {},
     "execution_count": 31
    }
   ],
   "source": [
    "trainData.head()"
   ]
  },
  {
   "cell_type": "code",
   "execution_count": 36,
   "metadata": {},
   "outputs": [],
   "source": [
    "#creating label files for each image, copying filtered images to new directory\n",
    "output_labels_path = os.path.join(dataDir, 'yolo/labels')\n",
    "output_images_path = os.path.join(dataDir, 'yolo/images')\n",
    "for out_path in [output_labels_path, output_images_path]:\n",
    "    if not os.path.exists(out_path):\n",
    "        os.makedirs(out_path)\n",
    "for i in range(len(trainData)):\n",
    "    with open(os.path.join(output_labels_path, str(trainData['imageID'][i]) + '.txt'), 'w') as f:\n",
    "        f.write(str(trainData['classIndex'][i]) + \" \" + \" \".join([str(a) for a in trainData['bboxInYOLO'][i]]) + '\\n')\n",
    "        shutil.copy(os.path.join(dataDir, dataType, str(trainData['imageID'][i]) + '.jpg'), output_images_path)\n",
    "    "
   ]
  },
  {
   "cell_type": "code",
   "execution_count": null,
   "metadata": {},
   "outputs": [],
   "source": []
  }
 ],
 "metadata": {
  "kernelspec": {
   "name": "python3",
   "display_name": "Python 3.8.8 64-bit ('yolo': conda)",
   "metadata": {
    "interpreter": {
     "hash": "a14d8b5eaa80ce343d508280b9449bc6cc824a5a22c556d8ba8e6e7421909913"
    }
   }
  },
  "language_info": {
   "codemirror_mode": {
    "name": "ipython",
    "version": 3
   },
   "file_extension": ".py",
   "mimetype": "text/x-python",
   "name": "python",
   "nbconvert_exporter": "python",
   "pygments_lexer": "ipython3",
   "version": "3.8.8-final"
  }
 },
 "nbformat": 4,
 "nbformat_minor": 4
}