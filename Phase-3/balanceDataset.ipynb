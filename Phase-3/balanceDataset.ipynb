{
 "metadata": {
  "language_info": {
   "codemirror_mode": {
    "name": "ipython",
    "version": 3
   },
   "file_extension": ".py",
   "mimetype": "text/x-python",
   "name": "python",
   "nbconvert_exporter": "python",
   "pygments_lexer": "ipython3",
   "version": "3.7.6"
  },
  "orig_nbformat": 2,
  "kernelspec": {
   "name": "python376jvsc74a57bd01234f1c8f42f10853cc7f8ba04db7ac6eacb908652228b72787c6cf4797b0d6a",
   "display_name": "Python 3.7.6 64-bit ('base': conda)"
  }
 },
 "nbformat": 4,
 "nbformat_minor": 2,
 "cells": [
  {
   "cell_type": "code",
   "execution_count": 18,
   "metadata": {},
   "outputs": [],
   "source": [
    "import glob\n",
    "import os\n",
    "import pandas as pd\n",
    "import cv2\n",
    "import shutil"
   ]
  },
  {
   "cell_type": "code",
   "execution_count": 27,
   "metadata": {},
   "outputs": [],
   "source": [
    "labelsTxtPath = 'C:/Users/kolli/Desktop/umbc/606/room-inference-using-object-detection/dataset/coco/yolo/labels'\n",
    "imagesPath = 'C:/Users/kolli/Desktop/umbc/606/room-inference-using-object-detection/dataset/coco/yolo/images'"
   ]
  },
  {
   "cell_type": "code",
   "execution_count": 28,
   "metadata": {},
   "outputs": [],
   "source": [
    "classNames = []\n",
    "imageNames = []\n",
    "for aTextfile in glob.glob(labelsTxtPath+ '/*.txt'):\n",
    "    f = open(aTextfile, 'r')\n",
    "    classNames.append(int(f.readline()[0]))\n",
    "    imageNames.append(os.path.basename(aTextfile).split('.')[0] + '.jpg')"
   ]
  },
  {
   "cell_type": "code",
   "execution_count": 29,
   "metadata": {},
   "outputs": [],
   "source": [
    "df = pd.DataFrame({'classNames':classNames, 'imageNames':imageNames})"
   ]
  },
  {
   "cell_type": "code",
   "execution_count": 30,
   "metadata": {},
   "outputs": [
    {
     "output_type": "execute_result",
     "data": {
      "text/plain": [
       "8    10671\n",
       "3     3757\n",
       "0     3297\n",
       "4     3252\n",
       "5     2823\n",
       "6     1861\n",
       "1     1712\n",
       "2     1083\n",
       "7      615\n",
       "Name: classNames, dtype: int64"
      ]
     },
     "metadata": {},
     "execution_count": 30
    }
   ],
   "source": [
    "df['classNames'].value_counts()"
   ]
  },
  {
   "cell_type": "code",
   "execution_count": 31,
   "metadata": {},
   "outputs": [],
   "source": [
    "dataWithoutDTable = df[df['classNames']!= 8]"
   ]
  },
  {
   "cell_type": "code",
   "execution_count": 32,
   "metadata": {},
   "outputs": [
    {
     "output_type": "execute_result",
     "data": {
      "text/plain": [
       "3    3757\n",
       "0    3297\n",
       "4    3252\n",
       "5    2823\n",
       "6    1861\n",
       "1    1712\n",
       "2    1083\n",
       "7     615\n",
       "Name: classNames, dtype: int64"
      ]
     },
     "metadata": {},
     "execution_count": 32
    }
   ],
   "source": [
    "dataWithoutDTable['classNames'].value_counts()"
   ]
  },
  {
   "cell_type": "code",
   "execution_count": 33,
   "metadata": {},
   "outputs": [],
   "source": [
    "for classID in [0,1,2,3,4,5,6,7]:\n",
    "    tempdF = dataWithoutDTable[dataWithoutDTable['classNames'] == classID].sample(20)\n",
    "    for i in tempdF['imageNames']:\n",
    "        shutil.copy(imagesPath + '/' + i, 'Dataset/Data/images/' + i)\n",
    "        shutil.copy(labelsTxtPath + '/' + i.split('.')[0] + '.txt', 'Dataset/Data/labels/' + i.split('.')[0]+'.txt')"
   ]
  },
  {
   "cell_type": "code",
   "execution_count": null,
   "metadata": {},
   "outputs": [],
   "source": []
  }
 ]
}