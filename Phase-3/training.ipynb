{
  "nbformat": 4,
  "nbformat_minor": 0,
  "metadata": {
    "colab": {
      "name": "yolo5_basic.ipynb",
      "provenance": [],
      "collapsed_sections": [],
      "machine_shape": "hm"
    },
    "kernelspec": {
      "name": "python3",
      "display_name": "Python 3"
    },
    "language_info": {
      "name": "python"
    },
    "accelerator": "GPU"
  },
  "cells": [
    {
      "cell_type": "code",
      "metadata": {
        "id": "En7c90zA3-Nk"
      },
      "source": [
        "from google.colab import drive\n",
        "drive.mount('/content/gdrive')"
      ],
      "execution_count": null,
      "outputs": []
    },
    {
      "cell_type": "code",
      "metadata": {
        "id": "J38HVU1L6JS7"
      },
      "source": [
        "import os\n",
        "os.chdir('gdrive/MyDrive/room-inference-using-object-detection/Phase-3')"
      ],
      "execution_count": null,
      "outputs": []
    },
    {
      "cell_type": "code",
      "metadata": {
        "id": "QovKS7mc4HDi"
      },
      "source": [
        "pip install -r requirements.txt"
      ],
      "execution_count": null,
      "outputs": []
    },
    {
      "cell_type": "code",
      "metadata": {
        "id": "i0A6JKr36Srd"
      },
      "source": [
        "# YOLOV5 original architechture training\n",
        "!python train.py --img 640 --batch 16 --epochs 100 --data room.yaml --weights yolov5x.pt"
      ],
      "execution_count": null,
      "outputs": []
    },
    {
      "cell_type": "code",
      "metadata": {
        "id": "VC-wqckB6HsY"
      },
      "source": [
        "# Training modified architecture\n",
        "!python train.py --img 640 --batch 16 --epochs 100 --data room.yaml --weights '' --cache-images --cfg models/vgg16.yaml"
      ],
      "execution_count": null,
      "outputs": []
    },
    {
      "cell_type": "code",
      "metadata": {
        "id": "wYXRQUU5oA2j"
      },
      "source": [
        "#Detecting the objects in an image\n",
        "!python detect.py --source /content/gdrive/MyDrive/yolov5/data/Creative-2.jpg --weights training-results/weights/best.pt"
      ],
      "execution_count": null,
      "outputs": []
    }
  ]
}